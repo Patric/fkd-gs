{
  "cells": [
    {
      "cell_type": "markdown",
      "metadata": {
        "id": "view-in-github",
        "colab_type": "text"
      },
      "source": [
        "<a href=\"https://colab.research.google.com/github/Patric/fkd-gs/blob/master/notebooks/FakeNewsDetectionGraphSolutions.ipynb\" target=\"_parent\"><img src=\"https://colab.research.google.com/assets/colab-badge.svg\" alt=\"Open In Colab\"/></a>"
      ]
    },
    {
      "cell_type": "markdown",
      "metadata": {
        "id": "70pYkR9LiOV0"
      },
      "source": [
        "# Fake news detection using graph solutions\n",
        "\n",
        "This notebook is a walkthrough feature selection process and machine learning effects of Fake news detection using graph solution Master's Thesis."
      ]
    },
    {
      "cell_type": "markdown",
      "source": [
        "# Code formatting\n",
        "Use !black command once to format the code, then use F5 and then save. Uncomment when needed"
      ],
      "metadata": {
        "id": "Bn9nQ-P04qFf"
      }
    },
    {
      "cell_type": "code",
      "execution_count": 1,
      "metadata": {
        "id": "mbKoCtla3aM8"
      },
      "outputs": [],
      "source": [
        "# ! pip install black[jupyter]"
      ]
    },
    {
      "cell_type": "code",
      "execution_count": 2,
      "metadata": {
        "id": "FrEN_XS73g5m"
      },
      "outputs": [],
      "source": [
        "# !black /content/drive/MyDrive/ColabNotebooks/FakeNewsDetectionGraphSolutions.ipynb"
      ]
    },
    {
      "cell_type": "markdown",
      "metadata": {
        "id": "s0KSrO7lzlhx"
      },
      "source": [
        "# Dataset loading"
      ]
    },
    {
      "cell_type": "markdown",
      "metadata": {
        "id": "qaobRl1CwTAU"
      },
      "source": [
        "## Mount google drive with processed features and define dataset paths"
      ]
    },
    {
      "cell_type": "code",
      "execution_count": 1,
      "metadata": {
        "colab": {
          "base_uri": "https://localhost:8080/"
        },
        "id": "PebI-wluuKlE",
        "outputId": "39a79a34-06ca-42ef-acc5-192042f23b12"
      },
      "outputs": [
        {
          "output_type": "stream",
          "name": "stdout",
          "text": [
            "Drive already mounted at /content/drive; to attempt to forcibly remount, call drive.mount(\"/content/drive\", force_remount=True).\n"
          ]
        }
      ],
      "source": [
        "from google.colab import drive\n",
        "\n",
        "drive.mount(\"/content/drive\")"
      ]
    },
    {
      "cell_type": "markdown",
      "metadata": {
        "id": "Cb0pRogWu9g7"
      },
      "source": [
        "### Import libs for operating on datasets"
      ]
    },
    {
      "cell_type": "code",
      "execution_count": 21,
      "metadata": {
        "id": "uPvq64-SuvWu"
      },
      "outputs": [],
      "source": [
        "import pandas as pd\n",
        "import matplotlib.pyplot as plt\n",
        "import numpy as np\n",
        "from sklearn.model_selection import train_test_split\n",
        "from enum import Enum"
      ]
    },
    {
      "cell_type": "markdown",
      "metadata": {
        "id": "HF8fxbMpwFkd"
      },
      "source": [
        "### Set datasets paths variables"
      ]
    },
    {
      "cell_type": "markdown",
      "source": [
        "Warning!!! These are Colab based paths. As for now data should be saved to your google drive from https://drive.google.com/drive/folders/1HOEIyiiFBALoqrHN5Jh8RczkvMIgUVyH?usp=sharing\n",
        " Paths should be adjusted accordingly"
      ],
      "metadata": {
        "id": "XPVuYq0Y_qm1"
      }
    },
    {
      "cell_type": "code",
      "execution_count": 27,
      "metadata": {
        "id": "nCr8RleKwEPF"
      },
      "outputs": [],
      "source": [
        "# variable should be adjusted according to your google drive TODO: figure out how to bond datasets more simply\n",
        "features_directory_path = \"/content/drive/MyDrive/FakeNewsDetectonColabNotebooks/resources/features\"\n",
        "\n",
        "politifact_more_than_1_relation_path = (\n",
        "    f\"{features_directory_path}/politifact_more_than_1_relation/\"\n",
        ")\n",
        "politifact_all_path = f\"{features_directory_path}/politifact_all/\"\n",
        "gossipcop_path = f\"{features_directory_path}/gossipcop/\"\n",
        "\n",
        "e13_followers_path = f\"{features_directory_path}/MIB/E13/\"\n",
        "fsf_followers_path = f\"{features_directory_path}/MIB/FSF/\"\n",
        "int_followers_path = f\"{features_directory_path}/MIB/INT/\"\n",
        "twt_followers_path = f\"{features_directory_path}/MIB/TWT/\"\n",
        "tfp_followers_path = f\"{features_directory_path}/MIB/TFP/\""
      ]
    },
    {
      "cell_type": "code",
      "execution_count": 28,
      "metadata": {
        "id": "F6QBTQBizJgh"
      },
      "outputs": [],
      "source": [
        "features_files_names = [\n",
        "    \"eigenvector_to_label.csv\",\n",
        "    \"harmonic_closeness_to_label.csv\",\n",
        "    \"hits_to_label.csv\",\n",
        "    \"betweenness_to_label.csv\",\n",
        "    \"closeness_to_label.csv\",\n",
        "    \"page_rank_to_label.csv\",\n",
        "    \"article_rank_to_label.csv\",\n",
        "    \"degree_to_label.csv\",\n",
        "]\n",
        "\n",
        "class FeatureColumnName(Enum):\n",
        "  EIGENVECTOR = 'eigenvector_score'\n",
        "  HARMONIC_CLOSENESS = 'harmonic_closeness_centrality'\n",
        "  CLOSENESS = 'closeness_score'\n",
        "  HITS_HUB = 'hits_hub'\n",
        "  HITS_AUTH = 'hits_auth'\n",
        "  BETWEENNESS = 'betweenness_score'\n",
        "  PAGE_RANK = 'page_rank_score'\n",
        "  ARTICLE_RANK = 'article_rank_score'\n",
        "  OUT_DEGREE = 'outDegree'\n",
        "  IN_DEGREE = 'inDegree'\n",
        "  DEGREE = 'degree'"
      ]
    },
    {
      "cell_type": "markdown",
      "metadata": {
        "id": "g20pz7cM2Cil"
      },
      "source": [
        "## Define util functions"
      ]
    },
    {
      "cell_type": "code",
      "execution_count": 5,
      "metadata": {
        "id": "oZjblJmG2GW1"
      },
      "outputs": [],
      "source": [
        "def get_data_frame(*paths):\n",
        "    paths = list(sum(paths, []))\n",
        "    dfs = list(map(lambda path: pd.read_csv(path), paths))\n",
        "    df = pd.concat(dfs, join=\"outer\", axis=1)\n",
        "    df = df.loc[:, ~df.columns.duplicated()].copy()\n",
        "    return df\n",
        "\n",
        "\n",
        "def get_feature_full_path(data_set_path, feature_data):\n",
        "    return f\"{data_set_path}{feature_data}\"\n",
        "\n",
        "\n",
        "def get_features_paths(data_set_path, features_files):\n",
        "    return list(\n",
        "        map(\n",
        "            lambda feature_file: get_feature_full_path(data_set_path, feature_file),\n",
        "            features_files,\n",
        "        )\n",
        "    )"
      ]
    },
    {
      "cell_type": "code",
      "source": [
        "# split into dependend and independent variables\n",
        "def split_into_X_y(data_frame, dependent_variables_list, independend_variable):\n",
        "  X = data_frame[dependent_variables_list]\n",
        "  y = data_frame[independend_variable]\n",
        "\n",
        "  return X, y"
      ],
      "metadata": {
        "id": "JsrZoZhVHEtB"
      },
      "execution_count": 6,
      "outputs": []
    },
    {
      "cell_type": "markdown",
      "source": [
        "## Convert datasets to Pandas DataFrames"
      ],
      "metadata": {
        "id": "QXG0vkzp5nyg"
      }
    },
    {
      "cell_type": "code",
      "source": [
        "paths_array = [e13_followers_path, fsf_followers_path, int_followers_path, twt_followers_path, tfp_followers_path]\n",
        "mib_combined = list(map(lambda dataset_path: get_data_frame(get_features_paths(dataset_path, features_files_names)), paths_array))\n",
        "dfs_mib_combined = pd.concat(mib_combined)"
      ],
      "metadata": {
        "id": "wn9O0EQF6NTD"
      },
      "execution_count": 24,
      "outputs": []
    },
    {
      "cell_type": "code",
      "source": [
        "df_politifact = get_data_frame(get_features_paths(politifact_all_path, features_files_names))\n",
        "df_politifact_more_than_1_relation = get_data_frame(get_features_paths(politifact_more_than_1_relation_path, features_files_names))\n",
        "\n",
        "df_gossipcop = get_data_frame(get_features_paths(gossipcop_path, features_files_names))\n",
        "\n",
        "df_fake_news_net_skeleton_combined = pd.concat([df_politifact, df_gossipcop])"
      ],
      "metadata": {
        "id": "ynq-WIHl-HA1"
      },
      "execution_count": 8,
      "outputs": []
    },
    {
      "cell_type": "code",
      "source": [
        "datasets = {\n",
        "    'politifact': df_politifact,\n",
        "    'gossipcop': df_gossipcop,\n",
        "    'fake_news_skeleton_combined': df_fake_news_net_skeleton_combined,\n",
        "    'mib_combined': dfs_mib_combined\n",
        "}"
      ],
      "metadata": {
        "id": "s5F5vgWYrt86"
      },
      "execution_count": 29,
      "outputs": []
    },
    {
      "cell_type": "markdown",
      "metadata": {
        "id": "PyeLJ859z5-7"
      },
      "source": [
        "# Feature selection\n"
      ]
    },
    {
      "cell_type": "markdown",
      "metadata": {
        "id": "Z26PJIk01YHk"
      },
      "source": [
        "## Import libs for feature selection"
      ]
    },
    {
      "cell_type": "code",
      "execution_count": 10,
      "metadata": {
        "id": "Zeydruxc1Pra"
      },
      "outputs": [],
      "source": [
        "from sklearn.ensemble import ExtraTreesClassifier\n",
        "from sklearn.feature_selection import SelectKBest\n",
        "from sklearn.feature_selection import mutual_info_classif\n",
        "from sklearn.feature_selection import mutual_info_regression\n",
        "from sklearn.feature_selection import f_regression\n",
        "from sklearn.feature_selection import r_regression\n",
        "from sklearn.feature_selection import f_classif\n",
        "from sklearn.feature_selection import chi2\n",
        "from sklearn.linear_model import LinearRegression\n",
        "from sklearn.metrics import r2_score\n",
        "\n",
        "import seaborn as sns"
      ]
    },
    {
      "cell_type": "markdown",
      "source": [
        "## Define feature selection functions"
      ],
      "metadata": {
        "id": "3RFXC2-w_-Uh"
      }
    },
    {
      "cell_type": "code",
      "source": [
        "def select_features_chi2(X_train, y_train, X_test, should_plot_output=False):\n",
        "  # configure to select all features\n",
        "  fs = SelectKBest(score_func=chi2, k='all')\n",
        "  # learn relationship from training data\n",
        "  fs.fit(X_train, y_train)\n",
        "  # transform train input data\n",
        "  X_train_fs = fs.transform(X_train)\n",
        "  # transform test input data\n",
        "  X_test_fs = fs.transform(X_test)\n",
        "  for i in range(len(fs.scores_)):\n",
        "      print('Feature %s: score: %f p_value: %f' % (fs.feature_names_in_[i], fs.scores_[i], fs.pvalues_[i]))\n",
        "\n",
        "  # plot p_value\n",
        "  if should_plot_output:\n",
        "    plt.bar([i for i in range(len(fs.pvalues_))], fs.pvalues_)\n",
        "    plt.show()\n",
        "\n",
        "  return X_train_fs, X_test_fs, fs"
      ],
      "metadata": {
        "id": "_BzyEshk_96l"
      },
      "execution_count": 11,
      "outputs": []
    },
    {
      "cell_type": "code",
      "source": [
        "def select_features_f(X_train, y_train, X_test, should_plot_output=False):\n",
        "  # configure to select all features\n",
        "  fs = SelectKBest(score_func=f_classif, k='all')\n",
        "  # learn relationship from training data\n",
        "  fs.fit(X_train, y_train)\n",
        "  # transform train input data\n",
        "  X_train_fs = fs.transform(X_train)\n",
        "  # transform test input data\n",
        "  X_test_fs = fs.transform(X_test)\n",
        "  for i in range(len(fs.scores_)):\n",
        "    print('Feature %s: score: %f p_value: %f' % (fs.feature_names_in_[i], fs.scores_[i], fs.pvalues_[i]))\n",
        "  \n",
        "  # plot p_value\n",
        "  if should_plot_output:\n",
        "    plt.bar([i for i in range(len(fs.pvalues_))], fs.pvalues_)\n",
        "    plt.show()\n",
        "    \n",
        "  return X_train_fs, X_test_fs, fs"
      ],
      "metadata": {
        "id": "dt0NJpGtA1IN"
      },
      "execution_count": 12,
      "outputs": []
    },
    {
      "cell_type": "code",
      "source": [
        "def select_features_mutual_info(X_train, y_train, X_test, should_plot_output=False):\n",
        "  # configure to select all features\n",
        "  fs = SelectKBest(score_func=mutual_info_classif, k='all')\n",
        "  # learn relationship from training data\n",
        "  fs.fit(X_train, y_train)\n",
        "  # transform train input data\n",
        "  X_train_fs = fs.transform(X_train)\n",
        "  # transform test input data\n",
        "  X_test_fs = fs.transform(X_test)\n",
        "  for i in range(len(fs.scores_)):\n",
        "    print('Feature %s: score: %f' % (fs.feature_names_in_[i], fs.scores_[i]))\n",
        "  \n",
        "  # plot p_value\n",
        "  if should_plot_output:\n",
        "    plt.bar([i for i in range(len(fs.pvalues_))], fs.pvalues_)\n",
        "    plt.show()\n",
        "    \n",
        "  return X_train_fs, X_test_fs, fs"
      ],
      "metadata": {
        "id": "Bmfq8jQvBa9Y"
      },
      "execution_count": 13,
      "outputs": []
    },
    {
      "cell_type": "code",
      "source": [
        "def select_features_r(X_train, y_train, X_test, should_plot_output=False):\n",
        "  # configure to select all features\n",
        "  fs = SelectKBest(score_func=r_regression, k='all')\n",
        "  # learn relationship from training data\n",
        "  fs.fit(X_train, y_train)\n",
        "  # transform train input data\n",
        "  X_train_fs = fs.transform(X_train)\n",
        "  # transform test input data\n",
        "  X_test_fs = fs.transform(X_test)\n",
        "  for i in range(len(fs.scores_)):\n",
        "    print('Feature %s: score: %f' % (fs.feature_names_in_[i], fs.scores_[i]))\n",
        "  \n",
        "  # plot p_value\n",
        "  if should_plot_output:\n",
        "    plt.bar([i for i in range(len(fs.pvalues_))], fs.pvalues_)\n",
        "    plt.show()\n",
        "  \n",
        "  # TODO: checkout if X_train_fs, X_test_fs needed\n",
        "  return X_train_fs, X_test_fs, fs"
      ],
      "metadata": {
        "id": "WbrJiis8BbIY"
      },
      "execution_count": 14,
      "outputs": []
    },
    {
      "cell_type": "code",
      "source": [
        "def tree_classifier(X_train, y_train, X_test):\n",
        "    clf = ExtraTreesClassifier(n_estimators=50)\n",
        "    clf = clf.fit(X_train, y_train)\n",
        "    print(clf.feature_importances_)"
      ],
      "metadata": {
        "id": "2_RijKFECD_e"
      },
      "execution_count": 15,
      "outputs": []
    },
    {
      "cell_type": "code",
      "source": [
        "def plot_pearson_corr_matrix(data_frame):\n",
        "  with pd.option_context('display.max_rows', None, 'display.max_columns', None, 'display.precision', 3):\n",
        "    pd.options.display.float_format = '{:.3f}'.format\n",
        "    print(data_frame.corr(method='pearson'))"
      ],
      "metadata": {
        "id": "wQ8Z8WwhCNpH"
      },
      "execution_count": 16,
      "outputs": []
    },
    {
      "cell_type": "code",
      "source": [
        "def test_linear_regression_model(X_train, y_train, X_test, y_test):\n",
        "  linreg=LinearRegression()\n",
        "  linreg.fit(X_train,y_train)\n",
        "  y_pred=linreg.predict(X_test)\n",
        "  Accuracy=r2_score(y_test,y_pred)*100\n",
        "  print(\" Accuracy of the model is %.2f\" %Accuracy)\n",
        "  plt.scatter(y_test,y_pred)\n",
        "  plt.xlabel('Actual')\n",
        "  plt.ylabel('Predicted')\n",
        "  plt.show()\n",
        "  sns.regplot(x=y_test,y=y_pred,ci=None,color ='red')\n",
        "  plt.show()"
      ],
      "metadata": {
        "id": "Ze6NMja1LI-g"
      },
      "execution_count": 43,
      "outputs": []
    },
    {
      "cell_type": "markdown",
      "source": [
        "## Test feature dependency"
      ],
      "metadata": {
        "id": "nhcnjyaZHw75"
      }
    },
    {
      "cell_type": "code",
      "source": [
        "def test_feature_dependency_for_dataset(df):\n",
        "  features_included = [\n",
        "          FeatureColumnName.EIGENVECTOR.value,\n",
        "          FeatureColumnName.HARMONIC_CLOSENESS.value,\n",
        "          FeatureColumnName.HITS_HUB.value,\n",
        "          FeatureColumnName.HITS_AUTH.value,\n",
        "          FeatureColumnName.BETWEENNESS.value,\n",
        "          FeatureColumnName.CLOSENESS.value,\n",
        "          FeatureColumnName.PAGE_RANK.value,\n",
        "          FeatureColumnName.OUT_DEGREE.value,\n",
        "          FeatureColumnName.IN_DEGREE.value,\n",
        "          FeatureColumnName.DEGREE.value\n",
        "          ]\n",
        "  \n",
        "  label_column_name = 'user.label'\n",
        "  X, y = split_into_X_y(df, features_included, label_column_name)\n",
        "  X_train, X_test, y_train, y_test = train_test_split(X, y, test_size=0.1)\n",
        "\n",
        "  print('Mutual Info')\n",
        "  select_features_mutual_info(X_train, y_train, X_test)\n",
        "  print('Mutual f classif (F-test)')\n",
        "  select_features_f(X_train, y_train, X_test)\n",
        "  print('Chi2')\n",
        "  select_features_chi2(X_train, y_train, X_test)\n",
        "  print('Pearson')\n",
        "  select_features_r(X_train, y_train, X_test)\n",
        "  print('Tree classifier')\n",
        "  tree_classifier(X_train, y_train, X_test)\n",
        "  print(f'Linear regression of features: {features_included}')\n",
        "  test_linear_regression_model(X_train, y_train, X_test, y_test)"
      ],
      "metadata": {
        "id": "a4GNckSOLst8"
      },
      "execution_count": 44,
      "outputs": []
    },
    {
      "cell_type": "code",
      "source": [
        "for dataset_name in datasets:\n",
        "  print(f'Testing feature dependency for: {dataset_name}')\n",
        "  test_feature_dependency_for_dataset(datasets[dataset_name])"
      ],
      "metadata": {
        "colab": {
          "base_uri": "https://localhost:8080/",
          "height": 1000
        },
        "id": "Nn6T8mWaLunS",
        "outputId": "a183b3ff-8fb3-4787-bb82-74956d7067eb"
      },
      "execution_count": null,
      "outputs": [
        {
          "output_type": "stream",
          "name": "stdout",
          "text": [
            "Testing feature dependency for: politifact\n",
            "Mutual Info\n",
            "Feature eigenvector_score: score: 0.004280\n",
            "Feature harmonic_closeness_centrality: score: 0.000625\n",
            "Feature hits_hub: score: 0.000033\n",
            "Feature hits_auth: score: 0.027067\n",
            "Feature betweenness_score: score: 0.001819\n",
            "Feature closeness_score: score: 0.000000\n",
            "Feature page_rank_score: score: 0.561412\n",
            "Feature outDegree: score: 0.000916\n",
            "Feature inDegree: score: 0.003727\n",
            "Feature degree: score: 0.000000\n",
            "Mutual f classif (F-test)\n",
            "Feature eigenvector_score: score: 7.036309 p_value: 0.007991\n",
            "Feature harmonic_closeness_centrality: score: 0.011918 p_value: 0.913069\n",
            "Feature hits_hub: score: 1.271085 p_value: 0.259571\n",
            "Feature hits_auth: score: 554.167899 p_value: 0.000000\n",
            "Feature betweenness_score: score: 1.785008 p_value: 0.181544\n",
            "Feature closeness_score: score: 0.625160 p_value: 0.429141\n",
            "Feature page_rank_score: score: 1.294843 p_value: 0.255165\n",
            "Feature outDegree: score: 1.484955 p_value: 0.223009\n",
            "Feature inDegree: score: 1.376784 p_value: 0.240657\n",
            "Feature degree: score: 1.529565 p_value: 0.216186\n",
            "Chi2\n",
            "Feature eigenvector_score: score: 2.849582 p_value: 0.091398\n",
            "Feature harmonic_closeness_centrality: score: 0.000000 p_value: 0.999859\n",
            "Feature hits_hub: score: 0.019657 p_value: 0.888500\n",
            "Feature hits_auth: score: 25.062001 p_value: 0.000001\n",
            "Feature betweenness_score: score: 74.146496 p_value: 0.000000\n",
            "Feature closeness_score: score: 0.000001 p_value: 0.999333\n",
            "Feature page_rank_score: score: 0.019131 p_value: 0.889991\n",
            "Feature outDegree: score: 132.129870 p_value: 0.000000\n",
            "Feature inDegree: score: 0.010434 p_value: 0.918641\n",
            "Feature degree: score: 66.843712 p_value: 0.000000\n",
            "Pearson\n",
            "Feature eigenvector_score: score: -0.013799\n",
            "Feature harmonic_closeness_centrality: score: 0.000568\n",
            "Feature hits_hub: score: -0.005865\n",
            "Feature hits_auth: score: -0.121564\n",
            "Feature betweenness_score: score: -0.006951\n",
            "Feature closeness_score: score: 0.004113\n",
            "Feature page_rank_score: score: 0.005920\n",
            "Feature outDegree: score: 0.006340\n",
            "Feature inDegree: score: 0.006104\n",
            "Feature degree: score: 0.006434\n",
            "Tree classifier\n",
            "[8.17212264e-04 2.42878474e-03 2.47512098e-05 3.04210893e-02\n",
            " 1.42842880e-02 2.25499545e-03 9.35790590e-01 6.91903426e-03\n",
            " 6.19501784e-05 6.99730440e-03]\n",
            "Linear regression of features: ['eigenvector_score', 'harmonic_closeness_centrality', 'hits_hub', 'hits_auth', 'betweenness_score', 'closeness_score', 'page_rank_score', 'outDegree', 'inDegree', 'degree']\n",
            " Accuracy of the model is -151.03\n"
          ]
        },
        {
          "output_type": "display_data",
          "data": {
            "text/plain": [
              "<Figure size 432x288 with 1 Axes>"
            ],
            "image/png": "[encoded data removed]"
          },
          "metadata": {
            "needs_background": "light"
          }
        },
        {
          "output_type": "display_data",
          "data": {
            "text/plain": [
              "<Figure size 432x288 with 1 Axes>"
            ],
            "image/png": "[encoded data removed]"
          },
          "metadata": {
            "needs_background": "light"
          }
        },
        {
          "output_type": "stream",
          "name": "stdout",
          "text": [
            "Testing feature dependency for: gossipcop\n",
            "Mutual Info\n",
            "Feature eigenvector_score: score: 0.010301\n",
            "Feature harmonic_closeness_centrality: score: 0.009920\n",
            "Feature hits_hub: score: 0.000279\n",
            "Feature hits_auth: score: 0.012191\n",
            "Feature betweenness_score: score: 0.010754\n",
            "Feature closeness_score: score: 0.010235\n",
            "Feature page_rank_score: score: 0.207060\n",
            "Feature outDegree: score: 0.014397\n",
            "Feature inDegree: score: 0.038859\n",
            "Feature degree: score: 0.030771\n",
            "Mutual f classif (F-test)\n",
            "Feature eigenvector_score: score: 11.669539 p_value: 0.000635\n",
            "Feature harmonic_closeness_centrality: score: 2679.003422 p_value: 0.000000\n",
            "Feature hits_hub: score: 1.470801 p_value: 0.225220\n",
            "Feature hits_auth: score: 256.134608 p_value: 0.000000\n",
            "Feature betweenness_score: score: 403.181013 p_value: 0.000000\n",
            "Feature closeness_score: score: 1473.157317 p_value: 0.000000\n",
            "Feature page_rank_score: score: 9692.255471 p_value: 0.000000\n",
            "Feature outDegree: score: 0.169242 p_value: 0.680787\n",
            "Feature inDegree: score: 596.865622 p_value: 0.000000\n",
            "Feature degree: score: 0.704222 p_value: 0.401369\n",
            "Chi2\n",
            "Feature eigenvector_score: score: 2.401255 p_value: 0.121238\n",
            "Feature harmonic_closeness_centrality: score: 0.000637 p_value: 0.979858\n",
            "Feature hits_hub: score: 0.832642 p_value: 0.361510\n",
            "Feature hits_auth: score: 10.446020 p_value: 0.001229\n",
            "Feature betweenness_score: score: 11574.000702 p_value: 0.000000\n",
            "Feature closeness_score: score: 0.000195 p_value: 0.988870\n",
            "Feature page_rank_score: score: 63.716743 p_value: 0.000000\n",
            "Feature outDegree: score: 10.070398 p_value: 0.001507\n",
            "Feature inDegree: score: 10.350337 p_value: 0.001295\n",
            "Feature degree: score: 20.419841 p_value: 0.000006\n",
            "Pearson\n",
            "Feature eigenvector_score: score: 0.006423\n",
            "Feature harmonic_closeness_centrality: score: 0.096867\n",
            "Feature hits_hub: score: -0.002280\n",
            "Feature hits_auth: score: -0.030080\n",
            "Feature betweenness_score: score: 0.037729\n",
            "Feature closeness_score: score: 0.071983\n",
            "Feature page_rank_score: score: 0.182025\n",
            "Feature outDegree: score: -0.000774\n",
            "Feature inDegree: score: -0.045890\n",
            "Feature degree: score: -0.001578\n",
            "Tree classifier\n",
            "[1.23588948e-03 1.97794313e-02 1.31897542e-04 2.35509419e-02\n",
            " 1.79764070e-02 2.36655733e-02 8.58145455e-01 3.13115968e-02\n",
            " 2.82962600e-03 2.13731816e-02]\n",
            "Linear regression of features: ['eigenvector_score', 'harmonic_closeness_centrality', 'hits_hub', 'hits_auth', 'betweenness_score', 'closeness_score', 'page_rank_score', 'outDegree', 'inDegree', 'degree']\n",
            " Accuracy of the model is 4.08\n"
          ]
        },
        {
          "output_type": "display_data",
          "data": {
            "text/plain": [
              "<Figure size 432x288 with 1 Axes>"
            ],
            "image/png": "[encoded data removed]"
          },
          "metadata": {
            "needs_background": "light"
          }
        },
        {
          "output_type": "display_data",
          "data": {
            "text/plain": [
              "<Figure size 432x288 with 1 Axes>"
            ],
            "image/png": "[encoded data removed]"
          },
          "metadata": {
            "needs_background": "light"
          }
        },
        {
          "output_type": "stream",
          "name": "stdout",
          "text": [
            "Testing feature dependency for: fake_news_skeleton_combined\n",
            "Mutual Info\n",
            "Feature eigenvector_score: score: 0.017907\n",
            "Feature harmonic_closeness_centrality: score: 0.019678\n",
            "Feature hits_hub: score: 0.000000\n",
            "Feature hits_auth: score: 0.012085\n",
            "Feature betweenness_score: score: 0.007788\n",
            "Feature closeness_score: score: 0.018974\n",
            "Feature page_rank_score: score: 0.224156\n",
            "Feature outDegree: score: 0.011090\n",
            "Feature inDegree: score: 0.041724\n",
            "Feature degree: score: 0.028556\n",
            "Mutual f classif (F-test)\n",
            "Feature eigenvector_score: score: 0.553632 p_value: 0.456838\n",
            "Feature harmonic_closeness_centrality: score: 7220.831897 p_value: 0.000000\n",
            "Feature hits_hub: score: 1.647410 p_value: 0.199313\n",
            "Feature hits_auth: score: 515.474944 p_value: 0.000000\n",
            "Feature betweenness_score: score: 377.558168 p_value: 0.000000\n",
            "Feature closeness_score: score: 7356.961837 p_value: 0.000000\n",
            "Feature page_rank_score: score: 8766.009272 p_value: 0.000000\n",
            "Feature outDegree: score: 0.184072 p_value: 0.667897\n",
            "Feature inDegree: score: 416.097293 p_value: 0.000000\n",
            "Feature degree: score: 0.585583 p_value: 0.444133\n",
            "Chi2\n",
            "Feature eigenvector_score: score: 0.109109 p_value: 0.741161\n",
            "Feature harmonic_closeness_centrality: score: 0.092082 p_value: 0.761547\n",
            "Feature hits_hub: score: 0.933811 p_value: 0.333875\n",
            "Feature hits_auth: score: 22.271306 p_value: 0.000002\n",
            "Feature betweenness_score: score: 11894.334876 p_value: 0.000000\n",
            "Feature closeness_score: score: 0.078209 p_value: 0.779739\n",
            "Feature page_rank_score: score: 67.121203 p_value: 0.000000\n",
            "Feature outDegree: score: 11.629965 p_value: 0.000649\n",
            "Feature inDegree: score: 6.745702 p_value: 0.009397\n",
            "Feature degree: score: 18.039871 p_value: 0.000022\n",
            "Pearson\n",
            "Feature eigenvector_score: score: 0.001316\n",
            "Feature harmonic_closeness_centrality: score: 0.148600\n",
            "Feature hits_hub: score: -0.002270\n",
            "Feature hits_auth: score: -0.040117\n",
            "Feature betweenness_score: score: 0.034341\n",
            "Feature closeness_score: score: 0.149963\n",
            "Feature page_rank_score: score: 0.163343\n",
            "Feature outDegree: score: -0.000759\n",
            "Feature inDegree: score: -0.036049\n",
            "Feature degree: score: -0.001353\n",
            "Tree classifier\n",
            "[1.60558619e-03 2.30728068e-02 1.77153225e-04 2.22209569e-02\n",
            " 1.46044263e-02 5.44854281e-02 8.39619829e-01 1.79785021e-02\n",
            " 3.30765531e-03 2.29276564e-02]\n",
            "Linear regression of features: ['eigenvector_score', 'harmonic_closeness_centrality', 'hits_hub', 'hits_auth', 'betweenness_score', 'closeness_score', 'page_rank_score', 'outDegree', 'inDegree', 'degree']\n",
            " Accuracy of the model is 5.35\n"
          ]
        },
        {
          "output_type": "display_data",
          "data": {
            "text/plain": [
              "<Figure size 432x288 with 1 Axes>"
            ],
            "image/png": "[encoded data removed]"
          },
          "metadata": {
            "needs_background": "light"
          }
        },
        {
          "output_type": "display_data",
          "data": {
            "text/plain": [
              "<Figure size 432x288 with 1 Axes>"
            ],
            "image/png": "[encoded data removed]"
          },
          "metadata": {
            "needs_background": "light"
          }
        },
        {
          "output_type": "stream",
          "name": "stdout",
          "text": [
            "Testing feature dependency for: mib_combined\n",
            "Mutual Info\n"
          ]
        }
      ]
    },
    {
      "cell_type": "markdown",
      "metadata": {
        "id": "EWifD7Sh0EfC"
      },
      "source": [
        "# Classifiers testing"
      ]
    },
    {
      "cell_type": "markdown",
      "source": [
        "## Import libs for classifiers testing"
      ],
      "metadata": {
        "id": "O45RKCIiMfWt"
      }
    },
    {
      "cell_type": "code",
      "source": [
        "from sklearn.ensemble import RandomForestClassifier\n",
        "from sklearn import metrics\n",
        "from sklearn.metrics import accuracy_score, log_loss\n",
        "from sklearn.neighbors import KNeighborsClassifier\n",
        "from sklearn.svm import SVC, LinearSVC, NuSVC\n",
        "from sklearn.tree import DecisionTreeClassifier\n",
        "from sklearn.ensemble import RandomForestClassifier, AdaBoostClassifier, GradientBoostingClassifier\n",
        "from sklearn.naive_bayes import GaussianNB\n",
        "from sklearn.discriminant_analysis import LinearDiscriminantAnalysis\n",
        "from sklearn.discriminant_analysis import QuadraticDiscriminantAnalysis\n",
        "from sklearn.model_selection import KFold"
      ],
      "metadata": {
        "id": "O8_AOZJxMN_6"
      },
      "execution_count": 9,
      "outputs": []
    },
    {
      "cell_type": "markdown",
      "source": [
        "## Test classifiers functions"
      ],
      "metadata": {
        "id": "iVFUGp1MMOo6"
      }
    },
    {
      "cell_type": "code",
      "source": [
        "def test_classfiers(classifiers, X_train, X_test, y_train, y_test):\n",
        "  log_cols = [\"Classifier\", \"Accuracy\", \"Log Loss\"]\n",
        "  log = pd.DataFrame(columns=log_cols)\n",
        "\n",
        "  for clf in classifiers:\n",
        "    clf.fit(X_train, y_train)\n",
        "    name = clf.__class__.__name__\n",
        "\n",
        "    print(\"=\" * 30)\n",
        "    print(name)\n",
        "\n",
        "    print('****Results****')\n",
        "    train_predictions = clf.predict(X_test)\n",
        "    acc = accuracy_score(y_test, train_predictions)\n",
        "    print(\"Accuracy: {:.4%}\".format(acc))\n",
        "\n",
        "    train_predictions = clf.predict_proba(X_test)\n",
        "    ll = log_loss(y_test, train_predictions)\n",
        "    print(\"Log Loss: {}\".format(ll))\n",
        "\n",
        "    log_entry = pd.DataFrame([[name, acc * 100, ll]], columns=log_cols)\n",
        "    log = log.append(log_entry)\n",
        "\n",
        "  print(\"=\" * 30)"
      ],
      "metadata": {
        "id": "Wy7y1guzMQJa"
      },
      "execution_count": 10,
      "outputs": []
    },
    {
      "cell_type": "code",
      "source": [
        "features_included = [\n",
        "        'eigenvector_score',\n",
        "        'harmonic_closeness_centrality',\n",
        "        'hits_hub',\n",
        "        'hits_auth',\n",
        "        'betweenness_score',\n",
        "        'closeness_score',\n",
        "        'page_rank_score',\n",
        "        'outDegree',\n",
        "        'inDegree',\n",
        "        'degree'\n",
        "        ]\n",
        "label_column_name = 'user.label'\n",
        "X, y = split_into_X_y(df_fake_news_net_skeleton_combined, features_included, label_column_name)\n",
        "X_train, X_test, y_train, y_test = train_test_split(X, y, test_size=0.1)\n",
        "\n",
        "classifiers = [\n",
        "  KNeighborsClassifier(3),\n",
        "  SVC(kernel=\"rbf\", C=0.025, probability=True),\n",
        "  NuSVC(probability=True),\n",
        "  DecisionTreeClassifier(),\n",
        "  RandomForestClassifier(n_estimators=1500),\n",
        "  AdaBoostClassifier(),\n",
        "  GradientBoostingClassifier(),\n",
        "  GaussianNB(),\n",
        "  LinearDiscriminantAnalysis(),\n",
        "  QuadraticDiscriminantAnalysis()\n",
        "]\n",
        "\n",
        "test_classfiers(classifiers, X_train, X_test, y_train, y_test)"
      ],
      "metadata": {
        "colab": {
          "base_uri": "https://localhost:8080/"
        },
        "id": "ovgdG2aDgk19",
        "outputId": "4ee6d841-135c-4369-e075-60507c68b0d4"
      },
      "execution_count": null,
      "outputs": [
        {
          "output_type": "stream",
          "name": "stdout",
          "text": [
            "==============================\n",
            "KNeighborsClassifier\n",
            "****Results****\n",
            "Accuracy: 77.9889%\n",
            "Log Loss: 3.0770044259677074\n"
          ]
        }
      ]
    },
    {
      "cell_type": "code",
      "source": [
        "classifiers = [\n",
        "  DecisionTreeClassifier(),\n",
        "  RandomForestClassifier(n_estimators=1500),\n",
        "  AdaBoostClassifier(),\n",
        "  GradientBoostingClassifier(),\n",
        "  GaussianNB(),\n",
        "  LinearDiscriminantAnalysis(),\n",
        "  QuadraticDiscriminantAnalysis()\n",
        "]\n",
        "\n",
        "test_classfiers(classifiers, X_train, X_test, y_train, y_test)"
      ],
      "metadata": {
        "id": "yfDudeD7qfCx"
      },
      "execution_count": null,
      "outputs": []
    },
    {
      "cell_type": "markdown",
      "metadata": {
        "id": "Lhfnlq1Surtk"
      },
      "source": [
        "# Markup helper TODO: delete\n",
        "\n",
        "\n",
        "Markdown | Preview\n",
        "--- | ---\n",
        "`**bold text**` | **bold text**\n",
        "`*italicized text*` or `_italicized text_` | *italicized text*\n",
        "`` `Monospace` `` | `Monospace`\n",
        "`~~strikethrough~~` | ~~strikethrough~~\n",
        "`[A link](https://www.google.com)` | [A link](https://www.google.com)\n",
        "`![An image](https://www.google.com/images/rss.png)` | ![An image](https://www.google.com/images/rss.png)\n",
        "\n",
        "\n",
        "---\n",
        "Headings are rendered as titles.\n",
        "\n",
        "```markdown\n",
        "# Section 1\n",
        "# Section 2\n",
        "## Sub-section under Section 2\n",
        "### Sub-section under the sub-section under Section 2\n",
        "# Section 3\n",
        "```\n",
        "\n",
        "# Section 1\n",
        "# Section 2\n",
        "## Sub-section under Section 2\n",
        "### Sub-section under the sub-section under Section 2\n",
        "# Section 3\n",
        "\n",
        "The table of contents, available on the left side of Colab, is populated using at most one section title from each text cell.\n",
        "\n",
        "---\n",
        "\n",
        "```markdown\n",
        ">One level of indentation\n",
        "```\n",
        "\n",
        ">One level of indentation\n",
        "\n",
        "\n",
        "```markdown\n",
        ">>Two levels of indentation\n",
        "```\n",
        "\n",
        ">>Two levels of indentation\n",
        "\n",
        "---\n",
        "\n",
        "Code blocks\n",
        "\n",
        "````\n",
        "```python\n",
        "print(\"a\")\n",
        "```\n",
        "````\n",
        "\n",
        "```python\n",
        "print(\"a\")\n",
        "```\n",
        "\n",
        "---\n",
        "\n",
        "Ordered lists:\n",
        "```markdown\n",
        "1. One\n",
        "1. Two\n",
        "1. Three\n",
        "```\n",
        "1. One\n",
        "1. Two\n",
        "1. Three\n",
        "\n",
        "---\n",
        "\n",
        "Unordered lists:\n",
        "```markdown\n",
        "* One\n",
        "* Two\n",
        "* Three\n",
        "```\n",
        "* One\n",
        "* Two\n",
        "* Three\n",
        "\n",
        "---\n",
        "\n",
        "Equations:\n",
        "\n",
        "```markdown\n",
        "$y=x^2$\n",
        "\n",
        "$e^{i\\pi} + 1 = 0$\n",
        "\n",
        "$e^x=\\sum_{i=0}^\\infty \\frac{1}{i!}x^i$\n",
        "\n",
        "$\\frac{n!}{k!(n-k)!} = {n \\choose k}$\n",
        "\n",
        "$A_{m,n} =\n",
        " \\begin{pmatrix}\n",
        "  a_{1,1} & a_{1,2} & \\cdots & a_{1,n} \\\\\n",
        "  a_{2,1} & a_{2,2} & \\cdots & a_{2,n} \\\\\n",
        "  \\vdots  & \\vdots  & \\ddots & \\vdots  \\\\\n",
        "  a_{m,1} & a_{m,2} & \\cdots & a_{m,n}\n",
        " \\end{pmatrix}$\n",
        "```\n",
        "\n",
        "$y=x^2$\n",
        "\n",
        "$e^{i\\pi} + 1 = 0$\n",
        "\n",
        "$e^x=\\sum_{i=0}^\\infty \\frac{1}{i!}x^i$\n",
        "\n",
        "$\\frac{n!}{k!(n-k)!} = {n \\choose k}$\n",
        "\n",
        "$A_{m,n} =\n",
        " \\begin{pmatrix}\n",
        "  a_{1,1} & a_{1,2} & \\cdots & a_{1,n} \\\\\n",
        "  a_{2,1} & a_{2,2} & \\cdots & a_{2,n} \\\\\n",
        "  \\vdots  & \\vdots  & \\ddots & \\vdots  \\\\\n",
        "  a_{m,1} & a_{m,2} & \\cdots & a_{m,n}\n",
        " \\end{pmatrix}$\n",
        "\n",
        "\n",
        " ---\n",
        "\n",
        "Tables:\n",
        "```markdown\n",
        "First column name  | Second column name \n",
        "-------------------|------------------\n",
        "Row 1, Col 1       | Row 1, Col 2 \n",
        "Row 2, Col 1       | Row 2, Col 2 \n",
        "\n",
        "```\n",
        "\n",
        "First column name  | Second column name \n",
        "-------------------|------------------\n",
        "Row 1, Col 1       | Row 1, Col 2 \n",
        "Row 2, Col 1       | Row 2, Col 2 \n",
        "\n",
        "---\n",
        "\n",
        "Horizontal rules:\n",
        "```markdown\n",
        "---\n",
        "```\n",
        "\n",
        "---\n",
        "\n",
        "\n"
      ]
    },
    {
      "cell_type": "markdown",
      "metadata": {
        "id": "w86a4I4fmkvD"
      },
      "source": [
        "## Differences between Colab Markdown and other Markdown dialects\n",
        "\n",
        "Colab uses [marked.js](https://github.com/chjj/marked) and so is similar but not quite identical to the Markdown used by Jupyter and Github.\n",
        "\n",
        "Colab supports (MathJax) $\\LaTeX$ equations like Jupyter, but does not allow HTML tags in the Markdown. Colab does not support some GitHub additions like emojis and to-do checkboxes.\n",
        "\n",
        "If HTML must be included in a Colab notebook, see the [%%html magic](/notebooks/basic_features_overview.ipynb#scrollTo=qM4myQGfQboQ)."
      ]
    },
    {
      "cell_type": "code",
      "execution_count": 23,
      "metadata": {
        "id": "5MO_h7AYvIq6"
      },
      "outputs": [],
      "source": []
    },
    {
      "cell_type": "markdown",
      "metadata": {
        "id": "uSx6SUb1Komv"
      },
      "source": [
        "## Useful references"
      ]
    },
    {
      "cell_type": "markdown",
      "metadata": {
        "id": "5Y3CStVkLxqt"
      },
      "source": [
        "* [Github Markdown basics](https://help.github.com/articles/markdown-basics/)\n",
        "* [Github flavored Markdown](https://help.github.com/articles/github-flavored-markdown/)\n",
        "* [Original Markdown spec: Syntax](http://daringfireball.net/projects/markdown/syntax)\n",
        "* [Original Markdown spec: Basics](http://daringfireball.net/projects/markdown/basics)\n",
        "* [marked.js library used by Colab](https://github.com/chjj/marked)\n",
        "* [LaTex mathematics for equations](https://en.wikibooks.org/wiki/LaTeX/Mathematics)"
      ]
    },
    {
      "cell_type": "markdown",
      "metadata": {
        "id": "XwAGNJDkzrb8"
      },
      "source": []
    }
  ],
  "metadata": {
    "colab": {
      "provenance": [],
      "collapsed_sections": [
        "70pYkR9LiOV0",
        "Z26PJIk01YHk",
        "O45RKCIiMfWt",
        "Lhfnlq1Surtk"
      ],
      "include_colab_link": true
    },
    "kernelspec": {
      "display_name": "Python 3",
      "name": "python3"
    }
  },
  "nbformat": 4,
  "nbformat_minor": 0
}