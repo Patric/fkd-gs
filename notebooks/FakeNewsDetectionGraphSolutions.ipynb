{
  "cells": [
    {
      "cell_type": "markdown",
      "metadata": {
        "id": "view-in-github",
        "colab_type": "text"
      },
      "source": [
        "<a href=\"https://colab.research.google.com/github/Patric/fkd-gs/blob/master/notebooks/FakeNewsDetectionGraphSolutions.ipynb\" target=\"_parent\"><img src=\"https://colab.research.google.com/assets/colab-badge.svg\" alt=\"Open In Colab\"/></a>"
      ]
    },
    {
      "cell_type": "markdown",
      "metadata": {
        "id": "70pYkR9LiOV0"
      },
      "source": [
        "# Fake news detection using graph solutions\n",
        "\n",
        "This notebook is a walkthrough feature selection process and machine learning effects of Fake news detection using graph solution Master's Thesis."
      ]
    },
    {
      "cell_type": "markdown",
      "source": [
        "# Code formatting\n",
        "Use !black command once to format the code, then use F5 and then save. Uncomment when needed"
      ],
      "metadata": {
        "id": "Bn9nQ-P04qFf"
      }
    },
    {
      "cell_type": "code",
      "execution_count": null,
      "metadata": {
        "colab": {
          "base_uri": "https://localhost:8080/"
        },
        "id": "mbKoCtla3aM8",
        "outputId": "e4251bb7-81cc-4344-be6c-f1b2de9d2828"
      },
      "outputs": [
        {
          "name": "stdout",
          "output_type": "stream",
          "text": [
            "Looking in indexes: https://pypi.org/simple, https://us-python.pkg.dev/colab-wheels/public/simple/\n",
            "Requirement already satisfied: black[jupyter] in /usr/local/lib/python3.7/dist-packages (22.10.0)\n",
            "Requirement already satisfied: typed-ast>=1.4.2 in /usr/local/lib/python3.7/dist-packages (from black[jupyter]) (1.5.4)\n",
            "Requirement already satisfied: pathspec>=0.9.0 in /usr/local/lib/python3.7/dist-packages (from black[jupyter]) (0.10.2)\n",
            "Requirement already satisfied: tomli>=1.1.0 in /usr/local/lib/python3.7/dist-packages (from black[jupyter]) (2.0.1)\n",
            "Requirement already satisfied: click>=8.0.0 in /usr/local/lib/python3.7/dist-packages (from black[jupyter]) (8.1.3)\n",
            "Requirement already satisfied: typing-extensions>=3.10.0.0 in /usr/local/lib/python3.7/dist-packages (from black[jupyter]) (4.1.1)\n",
            "Requirement already satisfied: mypy-extensions>=0.4.3 in /usr/local/lib/python3.7/dist-packages (from black[jupyter]) (0.4.3)\n",
            "Requirement already satisfied: platformdirs>=2 in /usr/local/lib/python3.7/dist-packages (from black[jupyter]) (2.5.4)\n",
            "Requirement already satisfied: tokenize-rt>=3.2.0 in /usr/local/lib/python3.7/dist-packages (from black[jupyter]) (5.0.0)\n",
            "Requirement already satisfied: ipython>=7.8.0 in /usr/local/lib/python3.7/dist-packages (from black[jupyter]) (7.9.0)\n",
            "Requirement already satisfied: importlib-metadata in /usr/local/lib/python3.7/dist-packages (from click>=8.0.0->black[jupyter]) (4.13.0)\n",
            "Requirement already satisfied: setuptools>=18.5 in /usr/local/lib/python3.7/dist-packages (from ipython>=7.8.0->black[jupyter]) (57.4.0)\n",
            "Requirement already satisfied: traitlets>=4.2 in /usr/local/lib/python3.7/dist-packages (from ipython>=7.8.0->black[jupyter]) (5.1.1)\n",
            "Requirement already satisfied: decorator in /usr/local/lib/python3.7/dist-packages (from ipython>=7.8.0->black[jupyter]) (4.4.2)\n",
            "Requirement already satisfied: jedi>=0.10 in /usr/local/lib/python3.7/dist-packages (from ipython>=7.8.0->black[jupyter]) (0.18.2)\n",
            "Requirement already satisfied: prompt-toolkit<2.1.0,>=2.0.0 in /usr/local/lib/python3.7/dist-packages (from ipython>=7.8.0->black[jupyter]) (2.0.10)\n",
            "Requirement already satisfied: pygments in /usr/local/lib/python3.7/dist-packages (from ipython>=7.8.0->black[jupyter]) (2.6.1)\n",
            "Requirement already satisfied: pexpect in /usr/local/lib/python3.7/dist-packages (from ipython>=7.8.0->black[jupyter]) (4.8.0)\n",
            "Requirement already satisfied: pickleshare in /usr/local/lib/python3.7/dist-packages (from ipython>=7.8.0->black[jupyter]) (0.7.5)\n",
            "Requirement already satisfied: backcall in /usr/local/lib/python3.7/dist-packages (from ipython>=7.8.0->black[jupyter]) (0.2.0)\n",
            "Requirement already satisfied: parso<0.9.0,>=0.8.0 in /usr/local/lib/python3.7/dist-packages (from jedi>=0.10->ipython>=7.8.0->black[jupyter]) (0.8.3)\n",
            "Requirement already satisfied: six>=1.9.0 in /usr/local/lib/python3.7/dist-packages (from prompt-toolkit<2.1.0,>=2.0.0->ipython>=7.8.0->black[jupyter]) (1.15.0)\n",
            "Requirement already satisfied: wcwidth in /usr/local/lib/python3.7/dist-packages (from prompt-toolkit<2.1.0,>=2.0.0->ipython>=7.8.0->black[jupyter]) (0.2.5)\n",
            "Requirement already satisfied: zipp>=0.5 in /usr/local/lib/python3.7/dist-packages (from importlib-metadata->click>=8.0.0->black[jupyter]) (3.10.0)\n",
            "Requirement already satisfied: ptyprocess>=0.5 in /usr/local/lib/python3.7/dist-packages (from pexpect->ipython>=7.8.0->black[jupyter]) (0.7.0)\n"
          ]
        }
      ],
      "source": [
        "# ! pip install black[jupyter]"
      ]
    },
    {
      "cell_type": "code",
      "execution_count": null,
      "metadata": {
        "colab": {
          "background_save": true,
          "base_uri": "https://localhost:8080/"
        },
        "id": "FrEN_XS73g5m",
        "outputId": "f8adfda1-5ade-4975-acd1-7ddc6b4bf755"
      },
      "outputs": [
        {
          "name": "stdout",
          "output_type": "stream",
          "text": [
            "\u001b[1mAll done! ✨ 🍰 ✨\u001b[0m\n",
            "\u001b[34m1 file \u001b[0mleft unchanged.\n"
          ]
        }
      ],
      "source": [
        "# !black /content/drive/MyDrive/ColabNotebooks/FakeNewsDetectionGraphSolutions.ipynb"
      ]
    },
    {
      "cell_type": "markdown",
      "metadata": {
        "id": "s0KSrO7lzlhx"
      },
      "source": [
        "# Dataset loading"
      ]
    },
    {
      "cell_type": "markdown",
      "metadata": {
        "id": "qaobRl1CwTAU"
      },
      "source": [
        "## Mount google drive with processed features and define dataset paths"
      ]
    },
    {
      "cell_type": "code",
      "execution_count": 40,
      "metadata": {
        "colab": {
          "base_uri": "https://localhost:8080/"
        },
        "id": "PebI-wluuKlE",
        "outputId": "da04a198-64e5-4966-a599-ba4cebe5f6b5"
      },
      "outputs": [
        {
          "output_type": "stream",
          "name": "stdout",
          "text": [
            "Drive already mounted at /content/drive; to attempt to forcibly remount, call drive.mount(\"/content/drive\", force_remount=True).\n"
          ]
        }
      ],
      "source": [
        "from google.colab import drive\n",
        "\n",
        "drive.mount(\"/content/drive\")"
      ]
    },
    {
      "cell_type": "markdown",
      "metadata": {
        "id": "Cb0pRogWu9g7"
      },
      "source": [
        "### Import libs for operating on datasets"
      ]
    },
    {
      "cell_type": "code",
      "execution_count": 41,
      "metadata": {
        "id": "uPvq64-SuvWu"
      },
      "outputs": [],
      "source": [
        "import pandas as pd\n",
        "import matplotlib.pyplot as plt\n",
        "import numpy as np"
      ]
    },
    {
      "cell_type": "markdown",
      "metadata": {
        "id": "HF8fxbMpwFkd"
      },
      "source": [
        "### Set datasets paths variables"
      ]
    },
    {
      "cell_type": "markdown",
      "source": [
        "Warning!!! These are Colab based paths. As for now data should be saved to your google drive from https://drive.google.com/drive/folders/1HOEIyiiFBALoqrHN5Jh8RczkvMIgUVyH?usp=sharing\n",
        " Paths should be adjusted accordingly"
      ],
      "metadata": {
        "id": "XPVuYq0Y_qm1"
      }
    },
    {
      "cell_type": "code",
      "execution_count": 42,
      "metadata": {
        "id": "nCr8RleKwEPF"
      },
      "outputs": [],
      "source": [
        "# variable should be adjusted according to your google drive TODO: figure out how to bond datasets more simply\n",
        "features_directory_path = \"/content/drive/MyDrive/FakeNewsDetectonColabNotebooks/resources/features\"\n",
        "\n",
        "politifact_more_than_1_relation_path = (\n",
        "    f\"{features_directory_path}/politifact_more_than_1_relation/\"\n",
        ")\n",
        "politifact_all_path = f\"{features_directory_path}/politifact_all/\"\n",
        "gossipcop_path = f\"{features_directory_path}/gossipcop/\"\n",
        "\n",
        "e13_followers_path = f\"{features_directory_path}/MIB/E13/\"\n",
        "fsf_followers_path = f\"{features_directory_path}/MIB/FSF/\"\n",
        "int_followers_path = f\"{features_directory_path}/MIB/INT/\"\n",
        "twt_followers_path = f\"{features_directory_path}/MIB/TWT/\"\n",
        "tfp_followers_path = f\"{features_directory_path}/MIB/TFP/\""
      ]
    },
    {
      "cell_type": "code",
      "execution_count": 43,
      "metadata": {
        "id": "F6QBTQBizJgh"
      },
      "outputs": [],
      "source": [
        "features_files_names = [\n",
        "    \"eigenvector_to_label.csv\",\n",
        "    \"harmonic_closeness_to_label.csv\",\n",
        "    \"hits_to_label.csv\",\n",
        "    \"betweenness_to_label.csv\",\n",
        "    \"closeness_to_label.csv\",\n",
        "    \"page_rank_to_label.csv\",\n",
        "    \"article_rank_to_label.csv\",\n",
        "    \"degree_to_label.csv\",\n",
        "]"
      ]
    },
    {
      "cell_type": "markdown",
      "metadata": {
        "id": "g20pz7cM2Cil"
      },
      "source": [
        "## Define util functions"
      ]
    },
    {
      "cell_type": "code",
      "execution_count": 44,
      "metadata": {
        "id": "oZjblJmG2GW1"
      },
      "outputs": [],
      "source": [
        "def get_data_frame(*paths):\n",
        "    paths = list(sum(paths, []))\n",
        "    dfs = list(map(lambda path: pd.read_csv(path), paths))\n",
        "    df = pd.concat(dfs, join=\"outer\", axis=1)\n",
        "    df = df.loc[:, ~df.columns.duplicated()].copy()\n",
        "    return df\n",
        "\n",
        "\n",
        "def get_feature_full_path(data_set_path, feature_data):\n",
        "    return f\"{data_set_path}{feature_data}\"\n",
        "\n",
        "\n",
        "def get_features_paths(data_set_path, features_files):\n",
        "    return list(\n",
        "        map(\n",
        "            lambda feature_file: get_feature_full_path(data_set_path, feature_file),\n",
        "            features_files,\n",
        "        )\n",
        "    )"
      ]
    },
    {
      "cell_type": "markdown",
      "source": [
        "## Convert datasets to Pandas DataFrames"
      ],
      "metadata": {
        "id": "QXG0vkzp5nyg"
      }
    },
    {
      "cell_type": "code",
      "source": [
        "dfs_mib_combined = list(map(lambda dataset_path: get_data_frame(get_features_paths(dataset_path, features_files_names)),\n",
        "[e13_followers_path, fsf_followers_path, int_followers_path, twt_followers_path, tfp_followers_path]))"
      ],
      "metadata": {
        "id": "wn9O0EQF6NTD"
      },
      "execution_count": 45,
      "outputs": []
    },
    {
      "cell_type": "code",
      "source": [
        "df_politifact = get_data_frame(get_features_paths(politifact_all_path, features_files_names))\n",
        "df_politifact_more_than_1_relation = get_data_frame(get_features_paths(politifact_more_than_1_relation_path, features_files_names))\n",
        "\n",
        "df_gossipcop = get_data_frame(get_features_paths(gossipcop_path, features_files_names))\n",
        "\n",
        "df_fake_news_net_skeleton_combined = pd.concat([df_politifact, df_gossipcop])"
      ],
      "metadata": {
        "id": "ynq-WIHl-HA1"
      },
      "execution_count": 46,
      "outputs": []
    },
    {
      "cell_type": "markdown",
      "metadata": {
        "id": "PyeLJ859z5-7"
      },
      "source": [
        "# Feature selection\n"
      ]
    },
    {
      "cell_type": "markdown",
      "metadata": {
        "id": "Z26PJIk01YHk"
      },
      "source": [
        "## Import libs for feature selection"
      ]
    },
    {
      "cell_type": "code",
      "execution_count": 58,
      "metadata": {
        "id": "Zeydruxc1Pra"
      },
      "outputs": [],
      "source": [
        "from sklearn.model_selection import train_test_split\n",
        "from sklearn.ensemble import ExtraTreesClassifier\n",
        "from sklearn.feature_selection import SelectKBest\n",
        "from sklearn.feature_selection import mutual_info_classif\n",
        "from sklearn.feature_selection import mutual_info_regression\n",
        "from sklearn.feature_selection import f_regression\n",
        "from sklearn.feature_selection import r_regression\n",
        "from sklearn.feature_selection import f_classif\n",
        "from sklearn.feature_selection import chi2\n",
        "from sklearn.linear_model import LinearRegression\n",
        "from sklearn.metrics import r2_score\n",
        "\n",
        "import seaborn as sns"
      ]
    },
    {
      "cell_type": "markdown",
      "source": [
        "## Define feature selection functions"
      ],
      "metadata": {
        "id": "3RFXC2-w_-Uh"
      }
    },
    {
      "cell_type": "code",
      "source": [
        "def select_features_chi2(X_train, y_train, X_test, should_plot_output=False):\n",
        "  # configure to select all features\n",
        "  fs = SelectKBest(score_func=chi2, k='all')\n",
        "  # learn relationship from training data\n",
        "  fs.fit(X_train, y_train)\n",
        "  # transform train input data\n",
        "  X_train_fs = fs.transform(X_train)\n",
        "  # transform test input data\n",
        "  X_test_fs = fs.transform(X_test)\n",
        "  for i in range(len(fs.scores_)):\n",
        "      print('Feature %s: score: %f p_value: %f' % (fs.feature_names_in_[i], fs.scores_[i], fs.pvalues_[i]))\n",
        "\n",
        "  # plot p_value\n",
        "  if should_plot_output:\n",
        "    plt.bar([i for i in range(len(fs.pvalues_))], fs.pvalues_)\n",
        "    plt.show()\n",
        "\n",
        "  return X_train_fs, X_test_fs, fs"
      ],
      "metadata": {
        "id": "_BzyEshk_96l"
      },
      "execution_count": 71,
      "outputs": []
    },
    {
      "cell_type": "code",
      "source": [
        "def select_features_f(X_train, y_train, X_test, should_plot_output=False):\n",
        "  # configure to select all features\n",
        "  fs = SelectKBest(score_func=f_classif, k='all')\n",
        "  # learn relationship from training data\n",
        "  fs.fit(X_train, y_train)\n",
        "  # transform train input data\n",
        "  X_train_fs = fs.transform(X_train)\n",
        "  # transform test input data\n",
        "  X_test_fs = fs.transform(X_test)\n",
        "  for i in range(len(fs.scores_)):\n",
        "    print('Feature %s: score: %f p_value: %f' % (fs.feature_names_in_[i], fs.scores_[i], fs.pvalues_[i]))\n",
        "  \n",
        "  # plot p_value\n",
        "  if should_plot_output:\n",
        "    plt.bar([i for i in range(len(fs.pvalues_))], fs.pvalues_)\n",
        "    plt.show()\n",
        "    \n",
        "  return X_train_fs, X_test_fs, fs"
      ],
      "metadata": {
        "id": "dt0NJpGtA1IN"
      },
      "execution_count": 72,
      "outputs": []
    },
    {
      "cell_type": "code",
      "source": [
        "def select_features_mutual_info(X_train, y_train, X_test, should_plot_output=False):\n",
        "  # configure to select all features\n",
        "  fs = SelectKBest(score_func=mutual_info_classif, k='all')\n",
        "  # learn relationship from training data\n",
        "  fs.fit(X_train, y_train)\n",
        "  # transform train input data\n",
        "  X_train_fs = fs.transform(X_train)\n",
        "  # transform test input data\n",
        "  X_test_fs = fs.transform(X_test)\n",
        "  for i in range(len(fs.scores_)):\n",
        "    print('Feature %s: score: %f' % (fs.feature_names_in_[i], fs.scores_[i]))\n",
        "  \n",
        "  # plot p_value\n",
        "  if should_plot_output:\n",
        "    plt.bar([i for i in range(len(fs.pvalues_))], fs.pvalues_)\n",
        "    plt.show()\n",
        "    \n",
        "  return X_train_fs, X_test_fs, fs"
      ],
      "metadata": {
        "id": "Bmfq8jQvBa9Y"
      },
      "execution_count": 73,
      "outputs": []
    },
    {
      "cell_type": "code",
      "source": [
        "def select_features_r(X_train, y_train, X_test, should_plot_output=False):\n",
        "  # configure to select all features\n",
        "  fs = SelectKBest(score_func=r_regression, k='all')\n",
        "  # learn relationship from training data\n",
        "  fs.fit(X_train, y_train)\n",
        "  # transform train input data\n",
        "  X_train_fs = fs.transform(X_train)\n",
        "  # transform test input data\n",
        "  X_test_fs = fs.transform(X_test)\n",
        "  for i in range(len(fs.scores_)):\n",
        "    print('Feature %s: score: %f' % (fs.feature_names_in_[i], fs.scores_[i]))\n",
        "  \n",
        "  # plot p_value\n",
        "  if should_plot_output:\n",
        "    plt.bar([i for i in range(len(fs.pvalues_))], fs.pvalues_)\n",
        "    plt.show()\n",
        "  \n",
        "  # TODO: checkout if X_train_fs, X_test_fs needed\n",
        "  return X_train_fs, X_test_fs, fs"
      ],
      "metadata": {
        "id": "WbrJiis8BbIY"
      },
      "execution_count": 82,
      "outputs": []
    },
    {
      "cell_type": "code",
      "source": [
        "def tree_classifier(X_train, y_train, X_test):\n",
        "    clf = ExtraTreesClassifier(n_estimators=50)\n",
        "    clf = clf.fit(X_train, y_train)\n",
        "    print(clf.feature_importances_)"
      ],
      "metadata": {
        "id": "2_RijKFECD_e"
      },
      "execution_count": 80,
      "outputs": []
    },
    {
      "cell_type": "code",
      "source": [
        "def plot_pearson_corr_matrix(data_frame):\n",
        "  with pd.option_context('display.max_rows', None, 'display.max_columns', None, 'display.precision', 3):\n",
        "    pd.options.display.float_format = '{:.3f}'.format\n",
        "    print(data_frame.corr(method='pearson'))"
      ],
      "metadata": {
        "id": "wQ8Z8WwhCNpH"
      },
      "execution_count": 76,
      "outputs": []
    },
    {
      "cell_type": "code",
      "source": [
        "# split into dependend and independent variables\n",
        "def split_into_X_y(data_frame, dependent_variables_list, independend_variable):\n",
        "  X = data_frame[dependent_variables_list]\n",
        "  y = data_frame[independend_variable]\n",
        "\n",
        "  return X, y"
      ],
      "metadata": {
        "id": "JsrZoZhVHEtB"
      },
      "execution_count": 77,
      "outputs": []
    },
    {
      "cell_type": "code",
      "source": [
        "def test_linear_regression_model(X_train, y_train):\n",
        "  linreg=LinearRegression()\n",
        "  linreg.fit(X_train,y_train)\n",
        "  y_pred=linreg.predict(X_test)\n",
        "  Accuracy=r2_score(y_test,y_pred)*100\n",
        "  print(\" Accuracy of the model is %.2f\" %Accuracy)\n",
        "  plt.scatter(y_test,y_pred)\n",
        "  plt.xlabel('Actual')\n",
        "  plt.ylabel('Predicted')\n",
        "  plt.show()\n",
        "  sns.regplot(x=y_test,y=y_pred,ci=None,color ='red')\n",
        "  plt.show()"
      ],
      "metadata": {
        "id": "Ze6NMja1LI-g"
      },
      "execution_count": 86,
      "outputs": []
    },
    {
      "cell_type": "markdown",
      "source": [
        "## Test feature dependency"
      ],
      "metadata": {
        "id": "nhcnjyaZHw75"
      }
    },
    {
      "cell_type": "code",
      "source": [
        "features_included = [\n",
        "        'eigenvector_score',\n",
        "        'harmonic_closeness_centrality',\n",
        "        'hits_hub',\n",
        "        'hits_auth',\n",
        "        'betweenness_score',\n",
        "        'closeness_score',\n",
        "        'page_rank_score',\n",
        "        'outDegree',\n",
        "        'inDegree',\n",
        "        'degree'\n",
        "        ]\n",
        "label_column_name = 'user.label'\n",
        "X, y = split_into_X_y(df_fake_news_net_skeleton_combined, features_included, label_column_name)\n",
        "X_train, X_test, y_train, y_test = train_test_split(X, y, test_size=0.1)"
      ],
      "metadata": {
        "id": "a4GNckSOLst8"
      },
      "execution_count": null,
      "outputs": []
    },
    {
      "cell_type": "code",
      "source": [
        "print('Mutual Info')\n",
        "select_features_mutual_info(X_train, y_train, X_test)\n",
        "print('Mutual f classif (F-test)')\n",
        "select_features_f(X_train, y_train, X_test)\n",
        "print('Chi2')\n",
        "select_features_chi2(X_train, y_train, X_test)\n",
        "print('Pearson')\n",
        "select_features_r(X_train, y_train, X_test)\n",
        "print('Tree classifier')\n",
        "tree_classifier(X_train, y_train, X_test)"
      ],
      "metadata": {
        "id": "Nn6T8mWaLunS"
      },
      "execution_count": null,
      "outputs": []
    },
    {
      "cell_type": "code",
      "source": [
        "print(f'Linear regression of features: {features_included}')\n",
        "test_linear_regression_model(X_train, y_train)"
      ],
      "metadata": {
        "colab": {
          "base_uri": "https://localhost:8080/",
          "height": 576
        },
        "id": "LOWOwfoCG8yE",
        "outputId": "4f40a9d7-6853-4d44-a788-e9f01a450b43"
      },
      "execution_count": 87,
      "outputs": [
        {
          "output_type": "stream",
          "name": "stdout",
          "text": [
            "Linear regression of features: ['eigenvector_score', 'harmonic_closeness_centrality', 'hits_hub', 'hits_auth', 'betweenness_score', 'closeness_score', 'page_rank_score', 'outDegree', 'inDegree', 'degree']\n",
            " Accuracy of the model is 5.77\n"
          ]
        },
        {
          "output_type": "display_data",
          "data": {
            "text/plain": [
              "<Figure size 432x288 with 1 Axes>"
            ],
            "image/png": "[encoded data removed]"
          },
          "metadata": {
            "needs_background": "light"
          }
        },
        {
          "output_type": "display_data",
          "data": {
            "text/plain": [
              "<Figure size 432x288 with 1 Axes>"
            ],
            "image/png": "[encoded data removed]"
          },
          "metadata": {
            "needs_background": "light"
          }
        }
      ]
    },
    {
      "cell_type": "markdown",
      "source": [],
      "metadata": {
        "id": "L6pr_kUEG3l5"
      }
    },
    {
      "cell_type": "markdown",
      "metadata": {
        "id": "EWifD7Sh0EfC"
      },
      "source": [
        "# Classifiers testing"
      ]
    },
    {
      "cell_type": "markdown",
      "source": [
        "## Import libs for classifiers testing"
      ],
      "metadata": {
        "id": "O45RKCIiMfWt"
      }
    },
    {
      "cell_type": "code",
      "source": [
        "from sklearn.ensemble import RandomForestClassifier\n",
        "from sklearn import metrics\n",
        "from sklearn.metrics import accuracy_score, log_loss\n",
        "from sklearn.neighbors import KNeighborsClassifier\n",
        "from sklearn.svm import SVC, LinearSVC, NuSVC\n",
        "from sklearn.tree import DecisionTreeClassifier\n",
        "from sklearn.ensemble import RandomForestClassifier, AdaBoostClassifier, GradientBoostingClassifier\n",
        "from sklearn.naive_bayes import GaussianNB\n",
        "from sklearn.discriminant_analysis import LinearDiscriminantAnalysis\n",
        "from sklearn.discriminant_analysis import QuadraticDiscriminantAnalysis\n",
        "from sklearn.model_selection import KFold"
      ],
      "metadata": {
        "id": "O8_AOZJxMN_6"
      },
      "execution_count": 88,
      "outputs": []
    },
    {
      "cell_type": "markdown",
      "source": [
        "## Test classifiers functions"
      ],
      "metadata": {
        "id": "iVFUGp1MMOo6"
      }
    },
    {
      "cell_type": "code",
      "source": [
        "def test_classfiers(df):\n",
        "        classifiers = [\n",
        "        # KNeighborsClassifier(3),\n",
        "        # SVC(kernel=\"rbf\", C=0.025, probability=True),\n",
        "        # NuSVC(probability=True),\n",
        "        DecisionTreeClassifier(),\n",
        "        RandomForestClassifier(n_estimators=1500),\n",
        "        # AdaBoostClassifier(),\n",
        "        GradientBoostingClassifier(),\n",
        "        GaussianNB(),\n",
        "        # LinearDiscriminantAnalysis(),\n",
        "        # QuadraticDiscriminantAnalysis()\n",
        "        ]\n",
        "\n",
        "        X = df[[#'eigenvector_score', \n",
        "               # 'harmonic_closeness_centrality', \n",
        "            #    'hits_hub',\n",
        "           #     'hits_auth',\n",
        "                'betweenness_score',\n",
        "                'closeness_score',\n",
        "            #    'page_rank_score',\n",
        "            #    'outDegree',\n",
        "            #    'inDegree',\n",
        "            #    'degree'\n",
        "            ]]\n",
        "\n",
        "        y = df['user.label']\n",
        "\n",
        "        X_train, X_test, y_train, y_test = train_test_split(X, y, test_size=0.3)\n",
        "        log_cols = [\"Classifier\", \"Accuracy\", \"Log Loss\"]\n",
        "        log = pd.DataFrame(columns=log_cols)\n",
        "\n",
        "        for clf in classifiers:\n",
        "                clf.fit(X_train, y_train)\n",
        "                name = clf.__class__.__name__\n",
        "\n",
        "                print(\"=\" * 30)\n",
        "                print(name)\n",
        "\n",
        "                print('****Results****')\n",
        "                train_predictions = clf.predict(X_test)\n",
        "                acc = accuracy_score(y_test, train_predictions)\n",
        "                print(\"Accuracy: {:.4%}\".format(acc))\n",
        "\n",
        "                train_predictions = clf.predict_proba(X_test)\n",
        "                ll = log_loss(y_test, train_predictions)\n",
        "                print(\"Log Loss: {}\".format(ll))\n",
        "\n",
        "                log_entry = pd.DataFrame([[name, acc * 100, ll]], columns=log_cols)\n",
        "                log = log.append(log_entry)\n",
        "\n",
        "\n",
        "        print(\"=\" * 30)"
      ],
      "metadata": {
        "id": "Wy7y1guzMQJa"
      },
      "execution_count": null,
      "outputs": []
    },
    {
      "cell_type": "markdown",
      "metadata": {
        "id": "Lhfnlq1Surtk"
      },
      "source": [
        "# Markup helper TODO: delete\n",
        "\n",
        "\n",
        "Markdown | Preview\n",
        "--- | ---\n",
        "`**bold text**` | **bold text**\n",
        "`*italicized text*` or `_italicized text_` | *italicized text*\n",
        "`` `Monospace` `` | `Monospace`\n",
        "`~~strikethrough~~` | ~~strikethrough~~\n",
        "`[A link](https://www.google.com)` | [A link](https://www.google.com)\n",
        "`![An image](https://www.google.com/images/rss.png)` | ![An image](https://www.google.com/images/rss.png)\n",
        "\n",
        "\n",
        "---\n",
        "Headings are rendered as titles.\n",
        "\n",
        "```markdown\n",
        "# Section 1\n",
        "# Section 2\n",
        "## Sub-section under Section 2\n",
        "### Sub-section under the sub-section under Section 2\n",
        "# Section 3\n",
        "```\n",
        "\n",
        "# Section 1\n",
        "# Section 2\n",
        "## Sub-section under Section 2\n",
        "### Sub-section under the sub-section under Section 2\n",
        "# Section 3\n",
        "\n",
        "The table of contents, available on the left side of Colab, is populated using at most one section title from each text cell.\n",
        "\n",
        "---\n",
        "\n",
        "```markdown\n",
        ">One level of indentation\n",
        "```\n",
        "\n",
        ">One level of indentation\n",
        "\n",
        "\n",
        "```markdown\n",
        ">>Two levels of indentation\n",
        "```\n",
        "\n",
        ">>Two levels of indentation\n",
        "\n",
        "---\n",
        "\n",
        "Code blocks\n",
        "\n",
        "````\n",
        "```python\n",
        "print(\"a\")\n",
        "```\n",
        "````\n",
        "\n",
        "```python\n",
        "print(\"a\")\n",
        "```\n",
        "\n",
        "---\n",
        "\n",
        "Ordered lists:\n",
        "```markdown\n",
        "1. One\n",
        "1. Two\n",
        "1. Three\n",
        "```\n",
        "1. One\n",
        "1. Two\n",
        "1. Three\n",
        "\n",
        "---\n",
        "\n",
        "Unordered lists:\n",
        "```markdown\n",
        "* One\n",
        "* Two\n",
        "* Three\n",
        "```\n",
        "* One\n",
        "* Two\n",
        "* Three\n",
        "\n",
        "---\n",
        "\n",
        "Equations:\n",
        "\n",
        "```markdown\n",
        "$y=x^2$\n",
        "\n",
        "$e^{i\\pi} + 1 = 0$\n",
        "\n",
        "$e^x=\\sum_{i=0}^\\infty \\frac{1}{i!}x^i$\n",
        "\n",
        "$\\frac{n!}{k!(n-k)!} = {n \\choose k}$\n",
        "\n",
        "$A_{m,n} =\n",
        " \\begin{pmatrix}\n",
        "  a_{1,1} & a_{1,2} & \\cdots & a_{1,n} \\\\\n",
        "  a_{2,1} & a_{2,2} & \\cdots & a_{2,n} \\\\\n",
        "  \\vdots  & \\vdots  & \\ddots & \\vdots  \\\\\n",
        "  a_{m,1} & a_{m,2} & \\cdots & a_{m,n}\n",
        " \\end{pmatrix}$\n",
        "```\n",
        "\n",
        "$y=x^2$\n",
        "\n",
        "$e^{i\\pi} + 1 = 0$\n",
        "\n",
        "$e^x=\\sum_{i=0}^\\infty \\frac{1}{i!}x^i$\n",
        "\n",
        "$\\frac{n!}{k!(n-k)!} = {n \\choose k}$\n",
        "\n",
        "$A_{m,n} =\n",
        " \\begin{pmatrix}\n",
        "  a_{1,1} & a_{1,2} & \\cdots & a_{1,n} \\\\\n",
        "  a_{2,1} & a_{2,2} & \\cdots & a_{2,n} \\\\\n",
        "  \\vdots  & \\vdots  & \\ddots & \\vdots  \\\\\n",
        "  a_{m,1} & a_{m,2} & \\cdots & a_{m,n}\n",
        " \\end{pmatrix}$\n",
        "\n",
        "\n",
        " ---\n",
        "\n",
        "Tables:\n",
        "```markdown\n",
        "First column name  | Second column name \n",
        "-------------------|------------------\n",
        "Row 1, Col 1       | Row 1, Col 2 \n",
        "Row 2, Col 1       | Row 2, Col 2 \n",
        "\n",
        "```\n",
        "\n",
        "First column name  | Second column name \n",
        "-------------------|------------------\n",
        "Row 1, Col 1       | Row 1, Col 2 \n",
        "Row 2, Col 1       | Row 2, Col 2 \n",
        "\n",
        "---\n",
        "\n",
        "Horizontal rules:\n",
        "```markdown\n",
        "---\n",
        "```\n",
        "\n",
        "---\n",
        "\n",
        "\n"
      ]
    },
    {
      "cell_type": "markdown",
      "metadata": {
        "id": "w86a4I4fmkvD"
      },
      "source": [
        "## Differences between Colab Markdown and other Markdown dialects\n",
        "\n",
        "Colab uses [marked.js](https://github.com/chjj/marked) and so is similar but not quite identical to the Markdown used by Jupyter and Github.\n",
        "\n",
        "Colab supports (MathJax) $\\LaTeX$ equations like Jupyter, but does not allow HTML tags in the Markdown. Colab does not support some GitHub additions like emojis and to-do checkboxes.\n",
        "\n",
        "If HTML must be included in a Colab notebook, see the [%%html magic](/notebooks/basic_features_overview.ipynb#scrollTo=qM4myQGfQboQ)."
      ]
    },
    {
      "cell_type": "code",
      "execution_count": null,
      "metadata": {
        "id": "5MO_h7AYvIq6"
      },
      "outputs": [],
      "source": []
    },
    {
      "cell_type": "markdown",
      "metadata": {
        "id": "uSx6SUb1Komv"
      },
      "source": [
        "## Useful references"
      ]
    },
    {
      "cell_type": "markdown",
      "metadata": {
        "id": "5Y3CStVkLxqt"
      },
      "source": [
        "* [Github Markdown basics](https://help.github.com/articles/markdown-basics/)\n",
        "* [Github flavored Markdown](https://help.github.com/articles/github-flavored-markdown/)\n",
        "* [Original Markdown spec: Syntax](http://daringfireball.net/projects/markdown/syntax)\n",
        "* [Original Markdown spec: Basics](http://daringfireball.net/projects/markdown/basics)\n",
        "* [marked.js library used by Colab](https://github.com/chjj/marked)\n",
        "* [LaTex mathematics for equations](https://en.wikibooks.org/wiki/LaTeX/Mathematics)"
      ]
    },
    {
      "cell_type": "markdown",
      "metadata": {
        "id": "XwAGNJDkzrb8"
      },
      "source": []
    }
  ],
  "metadata": {
    "colab": {
      "provenance": [],
      "include_colab_link": true
    },
    "kernelspec": {
      "display_name": "Python 3",
      "name": "python3"
    }
  },
  "nbformat": 4,
  "nbformat_minor": 0
}